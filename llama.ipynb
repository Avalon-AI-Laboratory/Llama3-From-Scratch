{
 "cells": [
  {
   "cell_type": "markdown",
   "metadata": {},
   "source": [
    "# Building and Training Llama From Scratch\n",
    "\n",
    "Kevin Putra Santoso - Avalon AI Corporation<br>\n",
    "Saturday, December 21th 2024"
   ]
  },
  {
   "cell_type": "code",
   "execution_count": 17,
   "metadata": {},
   "outputs": [],
   "source": [
    "from llama_modules import Transformer\n",
    "from llama_modules.model import ModelArgs\n",
    "import tiktoken\n",
    "import torch\n",
    "import torch.nn as nn\n",
    "import torch.optim as optim\n",
    "import torch.nn.functional as F\n",
    "import numpy as np\n",
    "import time\n",
    "import pandas as pd\n",
    "from typing import Tuple"
   ]
  },
  {
   "cell_type": "code",
   "execution_count": 18,
   "metadata": {},
   "outputs": [
    {
     "name": "stdout",
     "output_type": "stream",
     "text": [
      "Test encode - Hello world:  [9906, 1917]\n",
      "Test decode - Hello world:  Hello world\n"
     ]
    }
   ],
   "source": [
    "enc = tiktoken.get_encoding(\"cl100k_base\")\n",
    "\n",
    "print(\"Test encode - Hello world: \", enc.encode(\"Hello world\"))\n",
    "print(\"Test decode - Hello world: \", enc.decode(enc.encode(\"Hello world\")))"
   ]
  },
  {
   "cell_type": "code",
   "execution_count": 19,
   "metadata": {},
   "outputs": [],
   "source": [
    "# Loading data\n",
    "with open('tiny_shakespeare.txt','r') as f:\n",
    "    data = f.read()\n",
    "\n",
    "token_bos = enc.encode('<|begin_of_sentence|>')[0]\n",
    "token_eos = enc.encode('<|end_of_sentence|>')[0]\n",
    "token_pad = enc.encode('<|pad_id|>')[0]\n",
    "\n",
    "tensor_token_bos = torch.tensor(token_bos, dtype=torch.int, device=\"cuda\").view(1)\n",
    "tensor_token_eos = torch.tensor(token_eos, dtype=torch.int, device=\"cuda\").view(1)\n",
    "tensor_token_pad = torch.tensor(token_pad, dtype=torch.int, device=\"cuda\").view(1)\n",
    "\n",
    "data = enc.encode(data)\n",
    "\n",
    "vocab = sorted(set(data))\n",
    "vocab.extend([token_bos, token_eos, token_pad])\n",
    "vocab_size_bpe = len(vocab)"
   ]
  },
  {
   "cell_type": "code",
   "execution_count": 20,
   "metadata": {},
   "outputs": [],
   "source": [
    "itos = {i: ch for i, ch in enumerate(vocab)}\n",
    "stoi = {ch: i for i, ch in enumerate(vocab)}"
   ]
  },
  {
   "cell_type": "code",
   "execution_count": 21,
   "metadata": {},
   "outputs": [],
   "source": [
    "def encode(tokens):\n",
    "    return [stoi[ch] for ch in tokens]\n",
    "\n",
    "# def decode(l):\n",
    "#     return ''.join(itos[i] for i in l)\n",
    "\n",
    "def decode(l):\n",
    "    return [itos[ch] for ch in l]"
   ]
  },
  {
   "cell_type": "code",
   "execution_count": 22,
   "metadata": {},
   "outputs": [
    {
     "data": {
      "text/plain": [
       "'thou'"
      ]
     },
     "execution_count": 22,
     "metadata": {},
     "output_type": "execute_result"
    }
   ],
   "source": [
    "enc.decode(decode(encode(enc.encode(\"thou\"))))"
   ]
  },
  {
   "cell_type": "code",
   "execution_count": 23,
   "metadata": {},
   "outputs": [],
   "source": [
    "params = ModelArgs(dim = 256, n_layers = 3, n_heads = 16, n_kv_heads = 4, vocab_size = vocab_size_bpe,\n",
    "                   multiple_of = 128, ffn_dim_mult=1.3, norm_eps=1e-5, rope_theta = 500_000, max_seq_len=128)\n",
    "\n",
    "model = Transformer(params).to(\"cuda\")"
   ]
  },
  {
   "cell_type": "code",
   "execution_count": 24,
   "metadata": {},
   "outputs": [
    {
     "name": "stdout",
     "output_type": "stream",
     "text": [
      "7285504\n"
     ]
    }
   ],
   "source": [
    "def count_parameters(model):\n",
    "    return sum(p.numel() for p in model.parameters())\n",
    "\n",
    "print(count_parameters(model))"
   ]
  },
  {
   "cell_type": "code",
   "execution_count": 25,
   "metadata": {},
   "outputs": [
    {
     "name": "stdout",
     "output_type": "stream",
     "text": [
      "dataset-shape: torch.Size([301829])\n"
     ]
    }
   ],
   "source": [
    "dataset = torch.tensor(encode(data), dtype=torch.int).to(\"cuda\")\n",
    "print(f\"dataset-shape: {dataset.shape}\")"
   ]
  },
  {
   "cell_type": "code",
   "execution_count": 26,
   "metadata": {},
   "outputs": [],
   "source": [
    "def get_dataset_batch(\n",
    "    data: torch.Tensor,\n",
    "    split: str,\n",
    "    args: ModelArgs,\n",
    "    device: str = \"cuda\"\n",
    ") -> Tuple[torch.Tensor, torch.Tensor]:\n",
    "    \"\"\"\n",
    "    Get a batch of data for training, validation, or testing.\n",
    "    \n",
    "    Args:\n",
    "        data: Complete dataset tensor\n",
    "        split: Dataset split (\"train\", \"val\", or \"test\")\n",
    "        args: Model arguments containing sequence length and batch size\n",
    "        device: Computing device (\"cuda\" or \"cpu\")\n",
    "    \n",
    "    Returns:\n",
    "        Tuple of (input sequences, target sequences)\n",
    "    \"\"\"\n",
    "    # Data split ratios\n",
    "    TRAIN_RATIO = 0.8\n",
    "    VAL_RATIO = 0.1\n",
    "    \n",
    "    # Calculate split indices\n",
    "    train_idx = int(TRAIN_RATIO * len(data))\n",
    "    val_idx = int((TRAIN_RATIO + VAL_RATIO) * len(data))\n",
    "    \n",
    "    # Split data into train, validation and test sets\n",
    "    splits = {\n",
    "        \"train\": data[:train_idx],\n",
    "        \"val\": data[train_idx:val_idx],\n",
    "        \"test\": data[val_idx:]\n",
    "    }\n",
    "    \n",
    "    if split not in splits:\n",
    "        raise ValueError(f\"Invalid split '{split}'. Must be one of: {list(splits.keys())}\")\n",
    "    \n",
    "    batch_data = splits[split]\n",
    "    seq_len = args.max_seq_len\n",
    "    \n",
    "    # Generate random starting indices for sequences\n",
    "    indices = torch.randint(\n",
    "        low=0,\n",
    "        high=len(batch_data) - seq_len - 3,\n",
    "        size=(args.max_batch_sz,),\n",
    "        device=device\n",
    "    )\n",
    "    \n",
    "    # Create input sequences (x) with BOS token\n",
    "    x = torch.stack([\n",
    "        torch.cat([tensor_token_bos, batch_data[i:i+seq_len-1]])\n",
    "        for i in indices\n",
    "    ]).long().to(device)\n",
    "    \n",
    "    # Create target sequences (y) with EOS token\n",
    "    y = torch.stack([\n",
    "        torch.cat([batch_data[i+1:i+seq_len], tensor_token_eos])\n",
    "        for i in indices\n",
    "    ]).long().to(device)\n",
    "    \n",
    "    return x, y"
   ]
  },
  {
   "cell_type": "code",
   "execution_count": 27,
   "metadata": {},
   "outputs": [
    {
     "name": "stdout",
     "output_type": "stream",
     "text": [
      "torch.Size([32, 128]) torch.Size([32, 128])\n"
     ]
    }
   ],
   "source": [
    "xs, ys = get_dataset_batch(dataset, split=\"train\", args=params)\n",
    "print(xs.shape, ys.shape)"
   ]
  },
  {
   "cell_type": "code",
   "execution_count": 12,
   "metadata": {},
   "outputs": [],
   "source": [
    "device = \"cuda\"\n",
    "\n",
    "@torch.no_grad()\n",
    "def evaluate_loss(model, args: ModelArgs):\n",
    "    out = {}\n",
    "    for split in [\"train\", \"val\"]:\n",
    "        losses = []\n",
    "        for _ in range(10):      \n",
    "            with torch.no_grad():\n",
    "                xb, yb = get_dataset_batch(dataset, split, args)\n",
    "                xb, yb = xb.to(device), yb.to(device)  # Move to device, ensure detached\n",
    "                _, loss = model(tokens=xb, start_pos=0, targets=yb)\n",
    "\n",
    "            losses.append(loss.item())\n",
    "        out[split] = np.mean(losses)\n",
    "    return out\n",
    "\n",
    "\n",
    "def train(model, optimizer, args:ModelArgs):\n",
    "    epochs = 20\n",
    "    log_interval = 3\n",
    "    device = \"cuda\"\n",
    "    losses = []   \n",
    "    start_time = time.time()\n",
    "\n",
    "    for epoch in range(epochs):\n",
    "        # Training phase\n",
    "        model.train()  # Ensure model is in training mode\n",
    "        optimizer.zero_grad()  # More efficient gradient cleanup\n",
    "        \n",
    "        xs, ys = get_dataset_batch(dataset, 'train', args)\n",
    "        xs = xs.to(device)\n",
    "        ys = ys.to(device)\n",
    "        \n",
    "        # Get loss and do backward pass\n",
    "        _, loss = model(tokens=xs, start_pos=0, targets=ys)\n",
    "        loss.backward(retain_graph=True)\n",
    "        optimizer.step()\n",
    "\n",
    "        # Evaluation phase\n",
    "        if epoch % log_interval == 0:\n",
    "            torch.cuda.empty_cache()  # Clear GPU memory\n",
    "            batch_time = time.time() - start_time\n",
    "            with torch.no_grad():\n",
    "                x = evaluate_loss(model, args)\n",
    "            losses.append(x)            \n",
    "            print(f\"Epoch {epoch} | val loss {x['val']:.3f} | Time {batch_time:.3f}\")\n",
    "            start_time = time.time()\n",
    "        \n",
    "    return pd.DataFrame(losses).plot()"
   ]
  },
  {
   "cell_type": "code",
   "execution_count": 13,
   "metadata": {},
   "outputs": [
    {
     "name": "stdout",
     "output_type": "stream",
     "text": [
      "Epoch 0 | val loss 9.575 | Time 0.481\n",
      "Epoch 3 | val loss 9.553 | Time 0.159\n",
      "Epoch 6 | val loss 9.536 | Time 0.164\n",
      "Epoch 9 | val loss 9.511 | Time 0.145\n",
      "Epoch 12 | val loss 9.487 | Time 0.159\n",
      "Epoch 15 | val loss 9.449 | Time 0.153\n",
      "Epoch 18 | val loss 9.409 | Time 0.148\n"
     ]
    },
    {
     "data": {
      "text/plain": [
       "<Axes: >"
      ]
     },
     "execution_count": 13,
     "metadata": {},
     "output_type": "execute_result"
    },
    {
     "data": {
      "image/png": "[encoded data removed]",
      "text/plain": [
       "<Figure size 640x480 with 1 Axes>"
      ]
     },
     "metadata": {},
     "output_type": "display_data"
    }
   ],
   "source": [
    "optimizer = optim.Adam(model.parameters(), lr=1e-4)\n",
    "train(model, optimizer, params)"
   ]
  },
  {
   "cell_type": "markdown",
   "metadata": {},
   "source": [
    "## Proses Inferensi akan dilanjutkan pada Part 2"
   ]
  },
  {
   "cell_type": "code",
   "execution_count": null,
   "metadata": {},
   "outputs": [],
   "source": []
  }
 ],
 "metadata": {
  "kernelspec": {
   "display_name": "new_mytorch",
   "language": "python",
   "name": "python3"
  },
  "language_info": {
   "codemirror_mode": {
    "name": "ipython",
    "version": 3
   },
   "file_extension": ".py",
   "mimetype": "text/x-python",
   "name": "python",
   "nbconvert_exporter": "python",
   "pygments_lexer": "ipython3",
   "version": "3.9.20"
  }
 },
 "nbformat": 4,
 "nbformat_minor": 2
}
