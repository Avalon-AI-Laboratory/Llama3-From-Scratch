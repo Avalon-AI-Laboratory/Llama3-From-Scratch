{
 "cells": [
  {
   "cell_type": "markdown",
   "metadata": {},
   "source": [
    "# Building and Training Llama From Scratch\n",
    "\n",
    "Kevin Putra Santoso - Avalon AI Corporation<br>\n",
    "Saturday, December 21th 2024"
   ]
  },
  {
   "cell_type": "code",
   "execution_count": 1,
   "metadata": {},
   "outputs": [],
   "source": [
    "from llama_modules import Transformer\n",
    "from llama_modules.model import ModelArgs\n",
    "import tiktoken\n",
    "import torch\n",
    "import torch.nn as nn\n",
    "import torch.optim as optim\n",
    "import torch.nn.functional as F\n",
    "import numpy as np\n",
    "import time\n",
    "import pandas as pd\n",
    "from typing import Tuple\n",
    "from tqdm import tqdm"
   ]
  },
  {
   "cell_type": "code",
   "execution_count": 2,
   "metadata": {},
   "outputs": [
    {
     "name": "stdout",
     "output_type": "stream",
     "text": [
      "Test encode - Hello world:  [9906, 1917]\n",
      "Test decode - Hello world:  Hello world\n"
     ]
    }
   ],
   "source": [
    "enc = tiktoken.get_encoding(\"cl100k_base\")\n",
    "\n",
    "print(\"Test encode - Hello world: \", enc.encode(\"Hello world\"))\n",
    "print(\"Test decode - Hello world: \", enc.decode(enc.encode(\"Hello world\")))"
   ]
  },
  {
   "cell_type": "code",
   "execution_count": 3,
   "metadata": {},
   "outputs": [],
   "source": [
    "# Loading data\n",
    "with open('tiny_shakespeare.txt','r') as f:\n",
    "    data = f.read()\n",
    "\n",
    "token_bos = enc.encode('<|begin_of_sentence|>')[0]\n",
    "token_eos = enc.encode('<|end_of_sentence|>')[0]\n",
    "token_pad = enc.encode('<|pad_id|>')[0]\n",
    "\n",
    "tensor_token_bos = torch.tensor(token_bos, dtype=torch.int, device=\"cuda\").view(1)\n",
    "tensor_token_eos = torch.tensor(token_eos, dtype=torch.int, device=\"cuda\").view(1)\n",
    "tensor_token_pad = torch.tensor(token_pad, dtype=torch.int, device=\"cuda\").view(1)\n",
    "\n",
    "data = enc.encode(data)\n",
    "\n",
    "vocab = sorted(set(data))\n",
    "vocab.extend([token_bos, token_eos, token_pad])\n",
    "vocab_size_bpe = len(vocab)"
   ]
  },
  {
   "cell_type": "code",
   "execution_count": 4,
   "metadata": {},
   "outputs": [],
   "source": [
    "itos = {i: ch for i, ch in enumerate(vocab)}\n",
    "stoi = {ch: i for i, ch in enumerate(vocab)}"
   ]
  },
  {
   "cell_type": "code",
   "execution_count": 5,
   "metadata": {},
   "outputs": [],
   "source": [
    "def encode(tokens):\n",
    "    return [stoi[ch] for ch in tokens]\n",
    "\n",
    "# def decode(l):\n",
    "#     return ''.join(itos[i] for i in l)\n",
    "\n",
    "def decode(l):\n",
    "    return [itos[ch] for ch in l]"
   ]
  },
  {
   "cell_type": "code",
   "execution_count": 6,
   "metadata": {},
   "outputs": [
    {
     "data": {
      "text/plain": [
       "'thou'"
      ]
     },
     "execution_count": 6,
     "metadata": {},
     "output_type": "execute_result"
    }
   ],
   "source": [
    "enc.decode(decode(encode(enc.encode(\"thou\"))))"
   ]
  },
  {
   "cell_type": "code",
   "execution_count": 7,
   "metadata": {},
   "outputs": [],
   "source": [
    "params = ModelArgs(dim = 256, n_layers = 3, n_heads = 16, n_kv_heads = 4, vocab_size = vocab_size_bpe,\n",
    "                   multiple_of = 128, ffn_dim_mult=1.3, norm_eps=1e-5, rope_theta = 500_000, max_seq_len=128)\n",
    "\n",
    "model = Transformer(params).to(\"cuda\")"
   ]
  },
  {
   "cell_type": "code",
   "execution_count": 8,
   "metadata": {},
   "outputs": [
    {
     "name": "stdout",
     "output_type": "stream",
     "text": [
      "7285504\n"
     ]
    }
   ],
   "source": [
    "def count_parameters(model):\n",
    "    return sum(p.numel() for p in model.parameters())\n",
    "\n",
    "print(count_parameters(model))"
   ]
  },
  {
   "cell_type": "code",
   "execution_count": 9,
   "metadata": {},
   "outputs": [
    {
     "name": "stdout",
     "output_type": "stream",
     "text": [
      "dataset-shape: torch.Size([301829])\n"
     ]
    }
   ],
   "source": [
    "dataset = torch.tensor(encode(data), dtype=torch.int).to(\"cuda\")\n",
    "print(f\"dataset-shape: {dataset.shape}\")"
   ]
  },
  {
   "cell_type": "code",
   "execution_count": 10,
   "metadata": {},
   "outputs": [],
   "source": [
    "def get_dataset_batch(\n",
    "    data: torch.Tensor,\n",
    "    split: str,\n",
    "    args: ModelArgs,\n",
    "    device: str = \"cuda\"\n",
    ") -> Tuple[torch.Tensor, torch.Tensor]:\n",
    "    \"\"\"\n",
    "    Get a batch of data for training, validation, or testing.\n",
    "    \n",
    "    Args:\n",
    "        data: Complete dataset tensor\n",
    "        split: Dataset split (\"train\", \"val\", or \"test\")\n",
    "        args: Model arguments containing sequence length and batch size\n",
    "        device: Computing device (\"cuda\" or \"cpu\")\n",
    "    \n",
    "    Returns:\n",
    "        Tuple of (input sequences, target sequences)\n",
    "    \"\"\"\n",
    "    # Data split ratios\n",
    "    TRAIN_RATIO = 0.8\n",
    "    VAL_RATIO = 0.1\n",
    "    \n",
    "    # Calculate split indices\n",
    "    train_idx = int(TRAIN_RATIO * len(data))\n",
    "    val_idx = int((TRAIN_RATIO + VAL_RATIO) * len(data))\n",
    "    \n",
    "    # Split data into train, validation and test sets\n",
    "    splits = {\n",
    "        \"train\": data[:train_idx],\n",
    "        \"val\": data[train_idx:val_idx],\n",
    "        \"test\": data[val_idx:]\n",
    "    }\n",
    "    \n",
    "    if split not in splits:\n",
    "        raise ValueError(f\"Invalid split '{split}'. Must be one of: {list(splits.keys())}\")\n",
    "    \n",
    "    batch_data = splits[split]\n",
    "    seq_len = args.max_seq_len\n",
    "    \n",
    "    # Generate random starting indices for sequences\n",
    "    indices = torch.randint(\n",
    "        low=0,\n",
    "        high=len(batch_data) - seq_len - 3,\n",
    "        size=(args.max_batch_sz,),\n",
    "        device=device\n",
    "    )\n",
    "    \n",
    "    # Create input sequences (x) with BOS token\n",
    "    x = torch.stack([\n",
    "        torch.cat([tensor_token_bos, batch_data[i:i+seq_len-1]])\n",
    "        for i in indices\n",
    "    ]).long().to(device)\n",
    "    \n",
    "    # Create target sequences (y) with EOS token\n",
    "    y = torch.stack([\n",
    "        torch.cat([batch_data[i+1:i+seq_len], tensor_token_eos])\n",
    "        for i in indices\n",
    "    ]).long().to(device)\n",
    "    \n",
    "    return x, y"
   ]
  },
  {
   "cell_type": "code",
   "execution_count": 11,
   "metadata": {},
   "outputs": [
    {
     "name": "stdout",
     "output_type": "stream",
     "text": [
      "torch.Size([32, 128]) torch.Size([32, 128])\n"
     ]
    }
   ],
   "source": [
    "xs, ys = get_dataset_batch(dataset, split=\"train\", args=params)\n",
    "print(xs.shape, ys.shape)"
   ]
  },
  {
   "cell_type": "code",
   "execution_count": 12,
   "metadata": {},
   "outputs": [],
   "source": [
    "def evaluate_loss(model, dataset, args):\n",
    "    device = \"cuda\"\n",
    "    out = {}\n",
    "    model.eval()\n",
    "\n",
    "    for split in [\"train\", \"val\"]:\n",
    "        losses = []\n",
    "        for _ in range(10):  # Evaluate over 10 batches for stability\n",
    "            xb, yb = get_dataset_batch(dataset, split, args)\n",
    "            xb, yb = xb.to(device), yb.to(device)\n",
    "            with torch.no_grad():\n",
    "                _, loss = model(tokens=xb, start_pos=0, targets=yb)\n",
    "            losses.append(loss.item())\n",
    "        out[split] = np.mean(losses)\n",
    "    return out\n",
    "\n",
    "def train(model, optimizer, dataset, args):\n",
    "    epochs = 100\n",
    "    log_interval = 3\n",
    "    device = \"cuda\"\n",
    "    training_stats = []\n",
    "    start_time = time.time()\n",
    "\n",
    "    print(\"\\nStarting Training\\n\")\n",
    "    for epoch in tqdm(range(epochs), desc=\"Training Progress\", unit=\"epoch\"):\n",
    "        model.train()\n",
    "        optimizer.zero_grad()\n",
    "\n",
    "        xs, ys = get_dataset_batch(dataset, 'train', args)\n",
    "        xs, ys = xs.to(device), ys.to(device)\n",
    "        \n",
    "        _, loss = model(tokens=xs, start_pos=0, targets=ys)\n",
    "        loss.backward()\n",
    "        optimizer.step()\n",
    "\n",
    "        if (epoch + 1) % log_interval == 0:\n",
    "            elapsed_time = time.time() - start_time\n",
    "            eval_loss = evaluate_loss(model, dataset, args)\n",
    "            training_stats.append({\n",
    "                \"epoch\": epoch + 1,\n",
    "                \"train_loss\": eval_loss[\"train\"],\n",
    "                \"val_loss\": eval_loss[\"val\"],\n",
    "                \"elapsed_time\": elapsed_time\n",
    "            })\n",
    "\n",
    "            print(f\"Epoch {epoch + 1:3d} | Train Loss: {eval_loss['train']:.4f} | Val Loss: {eval_loss['val']:.4f} | Time: {elapsed_time:.2f}s\")\n",
    "            start_time = time.time()\n",
    "\n",
    "    df_stats = pd.DataFrame(training_stats)\n",
    "    df_stats.plot(x=\"epoch\", y=[\"train_loss\", \"val_loss\"], title=\"Training and Validation Loss\")\n",
    "    return df_stats"
   ]
  },
  {
   "cell_type": "code",
   "execution_count": 13,
   "metadata": {},
   "outputs": [
    {
     "name": "stdout",
     "output_type": "stream",
     "text": [
      "\n",
      "Starting Training\n",
      "\n"
     ]
    },
    {
     "name": "stderr",
     "output_type": "stream",
     "text": [
      "Training Progress:   3%|▎         | 3/100 [00:01<00:35,  2.73epoch/s]"
     ]
    },
    {
     "name": "stdout",
     "output_type": "stream",
     "text": [
      "Epoch   3 | Train Loss: 9.5383 | Val Loss: 9.5602 | Time: 0.75s\n"
     ]
    },
    {
     "name": "stderr",
     "output_type": "stream",
     "text": [
      "Training Progress:   6%|▌         | 6/100 [00:01<00:24,  3.81epoch/s]"
     ]
    },
    {
     "name": "stdout",
     "output_type": "stream",
     "text": [
      "Epoch   6 | Train Loss: 9.5171 | Val Loss: 9.5308 | Time: 0.14s\n"
     ]
    },
    {
     "name": "stderr",
     "output_type": "stream",
     "text": [
      "Training Progress:   9%|▉         | 9/100 [00:02<00:21,  4.32epoch/s]"
     ]
    },
    {
     "name": "stdout",
     "output_type": "stream",
     "text": [
      "Epoch   9 | Train Loss: 9.4909 | Val Loss: 9.5107 | Time: 0.15s\n"
     ]
    },
    {
     "name": "stderr",
     "output_type": "stream",
     "text": [
      "Training Progress:  12%|█▏        | 12/100 [00:03<00:20,  4.31epoch/s]"
     ]
    },
    {
     "name": "stdout",
     "output_type": "stream",
     "text": [
      "Epoch  12 | Train Loss: 9.4574 | Val Loss: 9.4801 | Time: 0.14s\n"
     ]
    },
    {
     "name": "stderr",
     "output_type": "stream",
     "text": [
      "Training Progress:  15%|█▌        | 15/100 [00:03<00:19,  4.27epoch/s]"
     ]
    },
    {
     "name": "stdout",
     "output_type": "stream",
     "text": [
      "Epoch  15 | Train Loss: 9.4231 | Val Loss: 9.4475 | Time: 0.15s\n"
     ]
    },
    {
     "name": "stderr",
     "output_type": "stream",
     "text": [
      "Training Progress:  20%|██        | 20/100 [00:04<00:15,  5.33epoch/s]"
     ]
    },
    {
     "name": "stdout",
     "output_type": "stream",
     "text": [
      "Epoch  18 | Train Loss: 9.3790 | Val Loss: 9.4031 | Time: 0.15s\n"
     ]
    },
    {
     "name": "stderr",
     "output_type": "stream",
     "text": [
      "Training Progress:  23%|██▎       | 23/100 [00:05<00:14,  5.30epoch/s]"
     ]
    },
    {
     "name": "stdout",
     "output_type": "stream",
     "text": [
      "Epoch  21 | Train Loss: 9.3142 | Val Loss: 9.3498 | Time: 0.16s\n"
     ]
    },
    {
     "name": "stderr",
     "output_type": "stream",
     "text": [
      "Training Progress:  26%|██▌       | 26/100 [00:06<00:14,  5.01epoch/s]"
     ]
    },
    {
     "name": "stdout",
     "output_type": "stream",
     "text": [
      "Epoch  24 | Train Loss: 9.2432 | Val Loss: 9.2688 | Time: 0.17s\n"
     ]
    },
    {
     "name": "stderr",
     "output_type": "stream",
     "text": [
      "Training Progress:  29%|██▉       | 29/100 [00:06<00:13,  5.10epoch/s]"
     ]
    },
    {
     "name": "stdout",
     "output_type": "stream",
     "text": [
      "Epoch  27 | Train Loss: 9.1488 | Val Loss: 9.1841 | Time: 0.19s\n"
     ]
    },
    {
     "name": "stderr",
     "output_type": "stream",
     "text": [
      "Training Progress:  32%|███▏      | 32/100 [00:07<00:12,  5.39epoch/s]"
     ]
    },
    {
     "name": "stdout",
     "output_type": "stream",
     "text": [
      "Epoch  30 | Train Loss: 9.0150 | Val Loss: 9.0572 | Time: 0.18s\n"
     ]
    },
    {
     "name": "stderr",
     "output_type": "stream",
     "text": [
      "Training Progress:  34%|███▍      | 34/100 [00:07<00:14,  4.45epoch/s]"
     ]
    },
    {
     "name": "stdout",
     "output_type": "stream",
     "text": [
      "Epoch  33 | Train Loss: 8.8971 | Val Loss: 8.9286 | Time: 0.16s\n"
     ]
    },
    {
     "name": "stderr",
     "output_type": "stream",
     "text": [
      "Training Progress:  38%|███▊      | 38/100 [00:08<00:12,  5.08epoch/s]"
     ]
    },
    {
     "name": "stdout",
     "output_type": "stream",
     "text": [
      "Epoch  36 | Train Loss: 8.7289 | Val Loss: 8.7722 | Time: 0.14s\n"
     ]
    },
    {
     "name": "stderr",
     "output_type": "stream",
     "text": [
      "Training Progress:  41%|████      | 41/100 [00:09<00:12,  4.85epoch/s]"
     ]
    },
    {
     "name": "stdout",
     "output_type": "stream",
     "text": [
      "Epoch  39 | Train Loss: 8.5867 | Val Loss: 8.6110 | Time: 0.22s\n"
     ]
    },
    {
     "name": "stderr",
     "output_type": "stream",
     "text": [
      "Training Progress:  42%|████▏     | 42/100 [00:10<00:16,  3.46epoch/s]"
     ]
    },
    {
     "name": "stdout",
     "output_type": "stream",
     "text": [
      "Epoch  42 | Train Loss: 8.4262 | Val Loss: 8.4683 | Time: 0.19s\n"
     ]
    },
    {
     "name": "stderr",
     "output_type": "stream",
     "text": [
      "Training Progress:  47%|████▋     | 47/100 [00:10<00:10,  5.05epoch/s]"
     ]
    },
    {
     "name": "stdout",
     "output_type": "stream",
     "text": [
      "Epoch  45 | Train Loss: 8.3202 | Val Loss: 8.3518 | Time: 0.15s\n"
     ]
    },
    {
     "name": "stderr",
     "output_type": "stream",
     "text": [
      "Training Progress:  49%|████▉     | 49/100 [00:11<00:11,  4.59epoch/s]"
     ]
    },
    {
     "name": "stdout",
     "output_type": "stream",
     "text": [
      "Epoch  48 | Train Loss: 8.1837 | Val Loss: 8.2410 | Time: 0.15s\n"
     ]
    },
    {
     "name": "stderr",
     "output_type": "stream",
     "text": [
      "Training Progress:  51%|█████     | 51/100 [00:12<00:12,  3.97epoch/s]"
     ]
    },
    {
     "name": "stdout",
     "output_type": "stream",
     "text": [
      "Epoch  51 | Train Loss: 8.0925 | Val Loss: 8.1472 | Time: 0.16s\n"
     ]
    },
    {
     "name": "stderr",
     "output_type": "stream",
     "text": [
      "Training Progress:  56%|█████▌    | 56/100 [00:12<00:08,  5.28epoch/s]"
     ]
    },
    {
     "name": "stdout",
     "output_type": "stream",
     "text": [
      "Epoch  54 | Train Loss: 8.0050 | Val Loss: 8.0355 | Time: 0.15s\n"
     ]
    },
    {
     "name": "stderr",
     "output_type": "stream",
     "text": [
      "Training Progress:  57%|█████▋    | 57/100 [00:13<00:10,  3.91epoch/s]"
     ]
    },
    {
     "name": "stdout",
     "output_type": "stream",
     "text": [
      "Epoch  57 | Train Loss: 7.9086 | Val Loss: 7.9480 | Time: 0.18s\n"
     ]
    },
    {
     "name": "stderr",
     "output_type": "stream",
     "text": [
      "Training Progress:  60%|██████    | 60/100 [00:14<00:09,  4.23epoch/s]"
     ]
    },
    {
     "name": "stdout",
     "output_type": "stream",
     "text": [
      "Epoch  60 | Train Loss: 7.8179 | Val Loss: 7.8702 | Time: 0.14s\n"
     ]
    },
    {
     "name": "stderr",
     "output_type": "stream",
     "text": [
      "Training Progress:  63%|██████▎   | 63/100 [00:14<00:08,  4.41epoch/s]"
     ]
    },
    {
     "name": "stdout",
     "output_type": "stream",
     "text": [
      "Epoch  63 | Train Loss: 7.7382 | Val Loss: 7.7861 | Time: 0.14s\n"
     ]
    },
    {
     "name": "stderr",
     "output_type": "stream",
     "text": [
      "Training Progress:  68%|██████▊   | 68/100 [00:15<00:05,  5.55epoch/s]"
     ]
    },
    {
     "name": "stdout",
     "output_type": "stream",
     "text": [
      "Epoch  66 | Train Loss: 7.6496 | Val Loss: 7.7144 | Time: 0.15s\n"
     ]
    },
    {
     "name": "stderr",
     "output_type": "stream",
     "text": [
      "Training Progress:  69%|██████▉   | 69/100 [00:16<00:07,  4.06epoch/s]"
     ]
    },
    {
     "name": "stdout",
     "output_type": "stream",
     "text": [
      "Epoch  69 | Train Loss: 7.5970 | Val Loss: 7.6435 | Time: 0.16s\n"
     ]
    },
    {
     "name": "stderr",
     "output_type": "stream",
     "text": [
      "Training Progress:  74%|███████▍  | 74/100 [00:16<00:04,  5.44epoch/s]"
     ]
    },
    {
     "name": "stdout",
     "output_type": "stream",
     "text": [
      "Epoch  72 | Train Loss: 7.5350 | Val Loss: 7.5876 | Time: 0.15s\n"
     ]
    },
    {
     "name": "stderr",
     "output_type": "stream",
     "text": [
      "Training Progress:  76%|███████▌  | 76/100 [00:17<00:05,  4.51epoch/s]"
     ]
    },
    {
     "name": "stdout",
     "output_type": "stream",
     "text": [
      "Epoch  75 | Train Loss: 7.4663 | Val Loss: 7.5183 | Time: 0.15s\n"
     ]
    },
    {
     "name": "stderr",
     "output_type": "stream",
     "text": [
      "Training Progress:  80%|████████  | 80/100 [00:18<00:03,  5.10epoch/s]"
     ]
    },
    {
     "name": "stdout",
     "output_type": "stream",
     "text": [
      "Epoch  78 | Train Loss: 7.3967 | Val Loss: 7.4780 | Time: 0.17s\n"
     ]
    },
    {
     "name": "stderr",
     "output_type": "stream",
     "text": [
      "Training Progress:  82%|████████▏ | 82/100 [00:18<00:04,  4.37epoch/s]"
     ]
    },
    {
     "name": "stdout",
     "output_type": "stream",
     "text": [
      "Epoch  81 | Train Loss: 7.3582 | Val Loss: 7.4082 | Time: 0.16s\n"
     ]
    },
    {
     "name": "stderr",
     "output_type": "stream",
     "text": [
      "Training Progress:  86%|████████▌ | 86/100 [00:19<00:02,  4.78epoch/s]"
     ]
    },
    {
     "name": "stdout",
     "output_type": "stream",
     "text": [
      "Epoch  84 | Train Loss: 7.2871 | Val Loss: 7.3842 | Time: 0.15s\n"
     ]
    },
    {
     "name": "stderr",
     "output_type": "stream",
     "text": [
      "Training Progress:  87%|████████▋ | 87/100 [00:20<00:03,  3.66epoch/s]"
     ]
    },
    {
     "name": "stdout",
     "output_type": "stream",
     "text": [
      "Epoch  87 | Train Loss: 7.2513 | Val Loss: 7.3350 | Time: 0.21s\n"
     ]
    },
    {
     "name": "stderr",
     "output_type": "stream",
     "text": [
      "Training Progress:  92%|█████████▏| 92/100 [00:21<00:01,  5.03epoch/s]"
     ]
    },
    {
     "name": "stdout",
     "output_type": "stream",
     "text": [
      "Epoch  90 | Train Loss: 7.2087 | Val Loss: 7.3017 | Time: 0.15s\n"
     ]
    },
    {
     "name": "stderr",
     "output_type": "stream",
     "text": [
      "Training Progress:  93%|█████████▎| 93/100 [00:21<00:01,  3.73epoch/s]"
     ]
    },
    {
     "name": "stdout",
     "output_type": "stream",
     "text": [
      "Epoch  93 | Train Loss: 7.1761 | Val Loss: 7.2617 | Time: 0.16s\n"
     ]
    },
    {
     "name": "stderr",
     "output_type": "stream",
     "text": [
      "Training Progress:  98%|█████████▊| 98/100 [00:22<00:00,  5.20epoch/s]"
     ]
    },
    {
     "name": "stdout",
     "output_type": "stream",
     "text": [
      "Epoch  96 | Train Loss: 7.1252 | Val Loss: 7.2305 | Time: 0.15s\n"
     ]
    },
    {
     "name": "stderr",
     "output_type": "stream",
     "text": [
      "Training Progress: 100%|██████████| 100/100 [00:23<00:00,  4.34epoch/s]"
     ]
    },
    {
     "name": "stdout",
     "output_type": "stream",
     "text": [
      "Epoch  99 | Train Loss: 7.1048 | Val Loss: 7.1973 | Time: 0.15s\n"
     ]
    },
    {
     "name": "stderr",
     "output_type": "stream",
     "text": [
      "\n"
     ]
    },
    {
     "data": {
      "text/html": [
       "<div>\n",
       "<style scoped>\n",
       "    .dataframe tbody tr th:only-of-type {\n",
       "        vertical-align: middle;\n",
       "    }\n",
       "\n",
       "    .dataframe tbody tr th {\n",
       "        vertical-align: top;\n",
       "    }\n",
       "\n",
       "    .dataframe thead th {\n",
       "        text-align: right;\n",
       "    }\n",
       "</style>\n",
       "<table border=\"1\" class=\"dataframe\">\n",
       "  <thead>\n",
       "    <tr style=\"text-align: right;\">\n",
       "      <th></th>\n",
       "      <th>epoch</th>\n",
       "      <th>train_loss</th>\n",
       "      <th>val_loss</th>\n",
       "      <th>elapsed_time</th>\n",
       "    </tr>\n",
       "  </thead>\n",
       "  <tbody>\n",
       "    <tr>\n",
       "      <th>0</th>\n",
       "      <td>3</td>\n",
       "      <td>9.538319</td>\n",
       "      <td>9.560215</td>\n",
       "      <td>0.746031</td>\n",
       "    </tr>\n",
       "    <tr>\n",
       "      <th>1</th>\n",
       "      <td>6</td>\n",
       "      <td>9.517097</td>\n",
       "      <td>9.530836</td>\n",
       "      <td>0.143494</td>\n",
       "    </tr>\n",
       "    <tr>\n",
       "      <th>2</th>\n",
       "      <td>9</td>\n",
       "      <td>9.490864</td>\n",
       "      <td>9.510658</td>\n",
       "      <td>0.149390</td>\n",
       "    </tr>\n",
       "    <tr>\n",
       "      <th>3</th>\n",
       "      <td>12</td>\n",
       "      <td>9.457370</td>\n",
       "      <td>9.480140</td>\n",
       "      <td>0.144589</td>\n",
       "    </tr>\n",
       "    <tr>\n",
       "      <th>4</th>\n",
       "      <td>15</td>\n",
       "      <td>9.423099</td>\n",
       "      <td>9.447482</td>\n",
       "      <td>0.146657</td>\n",
       "    </tr>\n",
       "    <tr>\n",
       "      <th>5</th>\n",
       "      <td>18</td>\n",
       "      <td>9.378978</td>\n",
       "      <td>9.403074</td>\n",
       "      <td>0.145860</td>\n",
       "    </tr>\n",
       "    <tr>\n",
       "      <th>6</th>\n",
       "      <td>21</td>\n",
       "      <td>9.314157</td>\n",
       "      <td>9.349755</td>\n",
       "      <td>0.157472</td>\n",
       "    </tr>\n",
       "    <tr>\n",
       "      <th>7</th>\n",
       "      <td>24</td>\n",
       "      <td>9.243163</td>\n",
       "      <td>9.268807</td>\n",
       "      <td>0.171953</td>\n",
       "    </tr>\n",
       "    <tr>\n",
       "      <th>8</th>\n",
       "      <td>27</td>\n",
       "      <td>9.148757</td>\n",
       "      <td>9.184093</td>\n",
       "      <td>0.185582</td>\n",
       "    </tr>\n",
       "    <tr>\n",
       "      <th>9</th>\n",
       "      <td>30</td>\n",
       "      <td>9.015039</td>\n",
       "      <td>9.057200</td>\n",
       "      <td>0.176991</td>\n",
       "    </tr>\n",
       "    <tr>\n",
       "      <th>10</th>\n",
       "      <td>33</td>\n",
       "      <td>8.897104</td>\n",
       "      <td>8.928570</td>\n",
       "      <td>0.161669</td>\n",
       "    </tr>\n",
       "    <tr>\n",
       "      <th>11</th>\n",
       "      <td>36</td>\n",
       "      <td>8.728918</td>\n",
       "      <td>8.772230</td>\n",
       "      <td>0.142686</td>\n",
       "    </tr>\n",
       "    <tr>\n",
       "      <th>12</th>\n",
       "      <td>39</td>\n",
       "      <td>8.586672</td>\n",
       "      <td>8.611003</td>\n",
       "      <td>0.216648</td>\n",
       "    </tr>\n",
       "    <tr>\n",
       "      <th>13</th>\n",
       "      <td>42</td>\n",
       "      <td>8.426197</td>\n",
       "      <td>8.468270</td>\n",
       "      <td>0.192746</td>\n",
       "    </tr>\n",
       "    <tr>\n",
       "      <th>14</th>\n",
       "      <td>45</td>\n",
       "      <td>8.320222</td>\n",
       "      <td>8.351761</td>\n",
       "      <td>0.148960</td>\n",
       "    </tr>\n",
       "    <tr>\n",
       "      <th>15</th>\n",
       "      <td>48</td>\n",
       "      <td>8.183726</td>\n",
       "      <td>8.240987</td>\n",
       "      <td>0.154839</td>\n",
       "    </tr>\n",
       "    <tr>\n",
       "      <th>16</th>\n",
       "      <td>51</td>\n",
       "      <td>8.092510</td>\n",
       "      <td>8.147159</td>\n",
       "      <td>0.159651</td>\n",
       "    </tr>\n",
       "    <tr>\n",
       "      <th>17</th>\n",
       "      <td>54</td>\n",
       "      <td>8.005026</td>\n",
       "      <td>8.035457</td>\n",
       "      <td>0.153753</td>\n",
       "    </tr>\n",
       "    <tr>\n",
       "      <th>18</th>\n",
       "      <td>57</td>\n",
       "      <td>7.908590</td>\n",
       "      <td>7.948042</td>\n",
       "      <td>0.179974</td>\n",
       "    </tr>\n",
       "    <tr>\n",
       "      <th>19</th>\n",
       "      <td>60</td>\n",
       "      <td>7.817932</td>\n",
       "      <td>7.870243</td>\n",
       "      <td>0.144284</td>\n",
       "    </tr>\n",
       "    <tr>\n",
       "      <th>20</th>\n",
       "      <td>63</td>\n",
       "      <td>7.738237</td>\n",
       "      <td>7.786102</td>\n",
       "      <td>0.143271</td>\n",
       "    </tr>\n",
       "    <tr>\n",
       "      <th>21</th>\n",
       "      <td>66</td>\n",
       "      <td>7.649615</td>\n",
       "      <td>7.714386</td>\n",
       "      <td>0.146509</td>\n",
       "    </tr>\n",
       "    <tr>\n",
       "      <th>22</th>\n",
       "      <td>69</td>\n",
       "      <td>7.596976</td>\n",
       "      <td>7.643507</td>\n",
       "      <td>0.156897</td>\n",
       "    </tr>\n",
       "    <tr>\n",
       "      <th>23</th>\n",
       "      <td>72</td>\n",
       "      <td>7.535007</td>\n",
       "      <td>7.587598</td>\n",
       "      <td>0.146949</td>\n",
       "    </tr>\n",
       "    <tr>\n",
       "      <th>24</th>\n",
       "      <td>75</td>\n",
       "      <td>7.466276</td>\n",
       "      <td>7.518325</td>\n",
       "      <td>0.152110</td>\n",
       "    </tr>\n",
       "    <tr>\n",
       "      <th>25</th>\n",
       "      <td>78</td>\n",
       "      <td>7.396725</td>\n",
       "      <td>7.478045</td>\n",
       "      <td>0.171646</td>\n",
       "    </tr>\n",
       "    <tr>\n",
       "      <th>26</th>\n",
       "      <td>81</td>\n",
       "      <td>7.358193</td>\n",
       "      <td>7.408228</td>\n",
       "      <td>0.160903</td>\n",
       "    </tr>\n",
       "    <tr>\n",
       "      <th>27</th>\n",
       "      <td>84</td>\n",
       "      <td>7.287127</td>\n",
       "      <td>7.384195</td>\n",
       "      <td>0.146518</td>\n",
       "    </tr>\n",
       "    <tr>\n",
       "      <th>28</th>\n",
       "      <td>87</td>\n",
       "      <td>7.251323</td>\n",
       "      <td>7.335010</td>\n",
       "      <td>0.214594</td>\n",
       "    </tr>\n",
       "    <tr>\n",
       "      <th>29</th>\n",
       "      <td>90</td>\n",
       "      <td>7.208746</td>\n",
       "      <td>7.301655</td>\n",
       "      <td>0.149530</td>\n",
       "    </tr>\n",
       "    <tr>\n",
       "      <th>30</th>\n",
       "      <td>93</td>\n",
       "      <td>7.176083</td>\n",
       "      <td>7.261680</td>\n",
       "      <td>0.157836</td>\n",
       "    </tr>\n",
       "    <tr>\n",
       "      <th>31</th>\n",
       "      <td>96</td>\n",
       "      <td>7.125164</td>\n",
       "      <td>7.230549</td>\n",
       "      <td>0.145175</td>\n",
       "    </tr>\n",
       "    <tr>\n",
       "      <th>32</th>\n",
       "      <td>99</td>\n",
       "      <td>7.104770</td>\n",
       "      <td>7.197309</td>\n",
       "      <td>0.152784</td>\n",
       "    </tr>\n",
       "  </tbody>\n",
       "</table>\n",
       "</div>"
      ],
      "text/plain": [
       "    epoch  train_loss  val_loss  elapsed_time\n",
       "0       3    9.538319  9.560215      0.746031\n",
       "1       6    9.517097  9.530836      0.143494\n",
       "2       9    9.490864  9.510658      0.149390\n",
       "3      12    9.457370  9.480140      0.144589\n",
       "4      15    9.423099  9.447482      0.146657\n",
       "5      18    9.378978  9.403074      0.145860\n",
       "6      21    9.314157  9.349755      0.157472\n",
       "7      24    9.243163  9.268807      0.171953\n",
       "8      27    9.148757  9.184093      0.185582\n",
       "9      30    9.015039  9.057200      0.176991\n",
       "10     33    8.897104  8.928570      0.161669\n",
       "11     36    8.728918  8.772230      0.142686\n",
       "12     39    8.586672  8.611003      0.216648\n",
       "13     42    8.426197  8.468270      0.192746\n",
       "14     45    8.320222  8.351761      0.148960\n",
       "15     48    8.183726  8.240987      0.154839\n",
       "16     51    8.092510  8.147159      0.159651\n",
       "17     54    8.005026  8.035457      0.153753\n",
       "18     57    7.908590  7.948042      0.179974\n",
       "19     60    7.817932  7.870243      0.144284\n",
       "20     63    7.738237  7.786102      0.143271\n",
       "21     66    7.649615  7.714386      0.146509\n",
       "22     69    7.596976  7.643507      0.156897\n",
       "23     72    7.535007  7.587598      0.146949\n",
       "24     75    7.466276  7.518325      0.152110\n",
       "25     78    7.396725  7.478045      0.171646\n",
       "26     81    7.358193  7.408228      0.160903\n",
       "27     84    7.287127  7.384195      0.146518\n",
       "28     87    7.251323  7.335010      0.214594\n",
       "29     90    7.208746  7.301655      0.149530\n",
       "30     93    7.176083  7.261680      0.157836\n",
       "31     96    7.125164  7.230549      0.145175\n",
       "32     99    7.104770  7.197309      0.152784"
      ]
     },
     "execution_count": 13,
     "metadata": {},
     "output_type": "execute_result"
    },
    {
     "data": {
      "image/png": "[encoded data removed]",
      "text/plain": [
       "<Figure size 640x480 with 1 Axes>"
      ]
     },
     "metadata": {},
     "output_type": "display_data"
    }
   ],
   "source": [
    "optimizer = optim.Adam(model.parameters(), lr=1e-4)\n",
    "train(model, optimizer, dataset, params)"
   ]
  },
  {
   "cell_type": "markdown",
   "metadata": {},
   "source": [
    "## Proses Inferensi akan dilanjutkan pada Part 2"
   ]
  }
 ],
 "metadata": {
  "kernelspec": {
   "display_name": "new_mytorch",
   "language": "python",
   "name": "python3"
  },
  "language_info": {
   "codemirror_mode": {
    "name": "ipython",
    "version": 3
   },
   "file_extension": ".py",
   "mimetype": "text/x-python",
   "name": "python",
   "nbconvert_exporter": "python",
   "pygments_lexer": "ipython3",
   "version": "3.9.20"
  }
 },
 "nbformat": 4,
 "nbformat_minor": 2
}
